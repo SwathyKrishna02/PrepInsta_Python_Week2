{
  "nbformat": 4,
  "nbformat_minor": 0,
  "metadata": {
    "colab": {
      "provenance": []
    },
    "kernelspec": {
      "name": "python3",
      "display_name": "Python 3"
    }
  },
  "cells": [
    {
      "cell_type": "markdown",
      "metadata": {
        "id": "zlnHLnmRMY8l"
      },
      "source": [
        "# Python Strings from Scratch !!"
      ]
    },
    {
      "cell_type": "markdown",
      "metadata": {
        "id": "xxh853OvayXm"
      },
      "source": [
        "## Let us understand the fundamentals of strings in python."
      ]
    },
    {
      "cell_type": "markdown",
      "metadata": {
        "id": "9Dsy0iRC_NiG"
      },
      "source": [
        "Strings are a sequence of characters which can be stored either as a constant or a different variable. Strings are considered as a datatype. Typically, programmers must enclose strings in quotation marks for the data to recognized as a string and not a number or variable name. Shown below are some of the most used string methods on a daily basis and are one of the most commonly asked interview questions."
      ]
    },
    {
      "cell_type": "markdown",
      "metadata": {
        "id": "pIY4aKtgbNAV"
      },
      "source": [
        "### For example, declaring a string in python:"
      ]
    },
    {
      "cell_type": "code",
      "metadata": {
        "id": "BIGc-dwobOzs"
      },
      "source": [
        "# Declaring a string variable\n",
        "string = \"This is a python tutorial\"\n",
        "print(string)"
      ],
      "execution_count": null,
      "outputs": []
    },
    {
      "cell_type": "code",
      "metadata": {
        "id": "sOgqU15TbRP6"
      },
      "source": [
        "print(type(string))"
      ],
      "execution_count": null,
      "outputs": []
    },
    {
      "cell_type": "markdown",
      "metadata": {
        "id": "SGLhburabSbf"
      },
      "source": [
        "\n",
        "\n",
        "---\n",
        "\n"
      ]
    },
    {
      "cell_type": "markdown",
      "metadata": {
        "id": "bKV_oUeUbT9G"
      },
      "source": [
        "## 1. Escape sequence  in python using strings"
      ]
    },
    {
      "cell_type": "markdown",
      "metadata": {
        "id": "JmieNp0cbVpO"
      },
      "source": [
        "In Python strings, the backslash \" \" is a special character, also called the \"escape\" character. It is used in representing certain whitespace characters: \"\\t\" is a tab, \"\\n\" is a new line, and \"\\r\" is a carriage return. Finally, \" \" can be used to escape itself: \"\\\" is the literal backslash character."
      ]
    },
    {
      "cell_type": "code",
      "metadata": {
        "id": "iqAlH3DHbYfB"
      },
      "source": [
        "# THis is an escape sequence.\n",
        "string = \"This is a \\\"Google Colab\\\" python notebook\"\n",
        "print(string)"
      ],
      "execution_count": null,
      "outputs": []
    },
    {
      "cell_type": "markdown",
      "metadata": {
        "id": "KeMt-LXtba_w"
      },
      "source": [
        "\n",
        "\n",
        "---\n",
        "\n"
      ]
    },
    {
      "cell_type": "markdown",
      "metadata": {
        "id": "i6uHC1G_bcpD"
      },
      "source": [
        "## 2. Accessing the String by an Index"
      ]
    },
    {
      "cell_type": "markdown",
      "metadata": {
        "id": "f_SWqIkNbdsF"
      },
      "source": [
        "Strings can be accessed by their index in order to get the value. To do this all you have to do is just place the number (index value) inside the pair of square brackets along with the name of the string."
      ]
    },
    {
      "cell_type": "code",
      "metadata": {
        "id": "mIpJw2iRbf4d"
      },
      "source": [
        "string1 = \"Python\"\n",
        "print(string1[2])"
      ],
      "execution_count": null,
      "outputs": []
    },
    {
      "cell_type": "code",
      "metadata": {
        "id": "DHBwL7TYbhVi"
      },
      "source": [
        "print(string[5])"
      ],
      "execution_count": null,
      "outputs": []
    },
    {
      "cell_type": "markdown",
      "metadata": {
        "id": "nRlzW6W4biG6"
      },
      "source": [
        "\n",
        "\n",
        "---\n",
        "\n"
      ]
    },
    {
      "cell_type": "markdown",
      "metadata": {
        "id": "035PEbyEbiyF"
      },
      "source": [
        "## 3. Slicing a string"
      ]
    },
    {
      "cell_type": "markdown",
      "metadata": {
        "id": "-bb6K9SzblDR"
      },
      "source": [
        "Slicing a string helps to get a set of characters from a string. This is really helpful when we want to access a particular set of characters in a string. Below are some slicing variants that are useful."
      ]
    },
    {
      "cell_type": "code",
      "metadata": {
        "id": "aw6PN6nubmyp",
        "outputId": "8b0acfcc-0909-4ba0-a2de-5eaf53023537",
        "colab": {
          "base_uri": "https://localhost:8080/",
          "height": 35
        }
      },
      "source": [
        "string = \"PythonProgramming\"\n",
        "string"
      ],
      "execution_count": null,
      "outputs": [
        {
          "output_type": "execute_result",
          "data": {
            "text/plain": [
              "'PythonProgramming'"
            ],
            "application/vnd.google.colaboratory.intrinsic+json": {
              "type": "string"
            }
          },
          "metadata": {},
          "execution_count": 9
        }
      ]
    },
    {
      "cell_type": "markdown",
      "metadata": {
        "id": "Cjc64ZDMbt5V"
      },
      "source": [
        "**Getting  one character of the string**"
      ]
    },
    {
      "cell_type": "code",
      "metadata": {
        "id": "MKV05Uclbomv",
        "outputId": "38bd8d22-381f-40e5-ec1b-9fc95fa23337",
        "colab": {
          "base_uri": "https://localhost:8080/"
        }
      },
      "source": [
        "print(string[0:2])"
      ],
      "execution_count": null,
      "outputs": [
        {
          "output_type": "stream",
          "name": "stdout",
          "text": [
            "TK\n"
          ]
        }
      ]
    },
    {
      "cell_type": "markdown",
      "metadata": {
        "id": "VqE7vaT7bwwW"
      },
      "source": [
        "**Getting the first three characters from the string**"
      ]
    },
    {
      "cell_type": "code",
      "metadata": {
        "id": "GfhGuOGXbykG",
        "outputId": "3574da36-0758-4ed8-981e-af774cf99a43",
        "colab": {
          "base_uri": "https://localhost:8080/"
        }
      },
      "source": [
        "print(string[:3])"
      ],
      "execution_count": null,
      "outputs": [
        {
          "output_type": "stream",
          "name": "stdout",
          "text": [
            "TK \n"
          ]
        }
      ]
    },
    {
      "cell_type": "markdown",
      "metadata": {
        "id": "INQoq6VKb056"
      },
      "source": [
        "**Getting the first three characters from the string (Alternate)**"
      ]
    },
    {
      "cell_type": "code",
      "metadata": {
        "id": "c5Qtr3qAb1or",
        "outputId": "3f9edb90-1c0c-47ad-d00c-d38fad8fc34a",
        "colab": {
          "base_uri": "https://localhost:8080/"
        }
      },
      "source": [
        "print(string[:3])"
      ],
      "execution_count": null,
      "outputs": [
        {
          "output_type": "stream",
          "name": "stdout",
          "text": [
            "TK \n"
          ]
        }
      ]
    },
    {
      "cell_type": "markdown",
      "metadata": {
        "id": "LqmBatu1b4B3"
      },
      "source": [
        "**Getting the last three characters from the string**"
      ]
    },
    {
      "cell_type": "code",
      "metadata": {
        "id": "NP01nD-Fb4rI",
        "outputId": "13e2584f-5118-401f-fe72-ad2d780df0cf",
        "colab": {
          "base_uri": "https://localhost:8080/"
        }
      },
      "source": [
        "print(string[-3:])"
      ],
      "execution_count": null,
      "outputs": [
        {
          "output_type": "stream",
          "name": "stdout",
          "text": [
            "ing\n"
          ]
        }
      ]
    },
    {
      "cell_type": "markdown",
      "metadata": {
        "id": "CFHrPtA1b7P2"
      },
      "source": [
        "**Getting all characters but excluding three first characters from the string**"
      ]
    },
    {
      "cell_type": "code",
      "metadata": {
        "id": "GWyjj-T-b64y",
        "outputId": "5e4012cd-73d2-4279-8c4d-134954370ba6",
        "colab": {
          "base_uri": "https://localhost:8080/"
        }
      },
      "source": [
        "print(string)"
      ],
      "execution_count": null,
      "outputs": [
        {
          "output_type": "stream",
          "name": "stdout",
          "text": [
            "PythonProgramming\n"
          ]
        }
      ]
    },
    {
      "cell_type": "markdown",
      "metadata": {
        "id": "u7xEgZUbcAe6"
      },
      "source": [
        "**Getting all characters but excluding the last three characters from the string**"
      ]
    },
    {
      "cell_type": "code",
      "metadata": {
        "id": "eSaTVepRcB_u",
        "outputId": "ba5c9e78-192f-4db8-a8f5-506376bc991e",
        "colab": {
          "base_uri": "https://localhost:8080/"
        }
      },
      "source": [
        "print(string[:-3])"
      ],
      "execution_count": null,
      "outputs": [
        {
          "output_type": "stream",
          "name": "stdout",
          "text": [
            "PythonProgramm\n"
          ]
        }
      ]
    },
    {
      "cell_type": "markdown",
      "metadata": {
        "id": "NZ25LjX_cFTN"
      },
      "source": [
        "**Reversing all the characters in a given string**"
      ]
    },
    {
      "cell_type": "code",
      "metadata": {
        "id": "rTcC5ghscDnM",
        "outputId": "9f90ba5d-7207-4817-cfa1-ee10feecd3ab",
        "colab": {
          "base_uri": "https://localhost:8080/"
        }
      },
      "source": [
        "print(string[:-1])"
      ],
      "execution_count": null,
      "outputs": [
        {
          "output_type": "stream",
          "name": "stdout",
          "text": [
            "PythonProgrammin\n"
          ]
        }
      ]
    },
    {
      "cell_type": "markdown",
      "metadata": {
        "id": "_ZQsR8s3cIzp"
      },
      "source": [
        "**Alternative to printing all characters in a string**"
      ]
    },
    {
      "cell_type": "code",
      "metadata": {
        "id": "UhQyXlXucIMf"
      },
      "source": [
        "print(string[::])"
      ],
      "execution_count": null,
      "outputs": []
    },
    {
      "cell_type": "markdown",
      "metadata": {
        "id": "zgUsB_khcL1H"
      },
      "source": [
        "\n",
        "\n",
        "---\n",
        "\n"
      ]
    },
    {
      "cell_type": "markdown",
      "metadata": {
        "id": "1IxFIjOTcMaj"
      },
      "source": [
        "**4. Splitting a string**"
      ]
    },
    {
      "cell_type": "markdown",
      "metadata": {
        "id": "yy4X7tFHcO9B"
      },
      "source": [
        "Sometimes splitting a string is a handy option because it is one of the easiest ways to convert a string into a list. I know I have not spoken about the list but keep in mind that split converts a string into a list. You can find the material on Python Lists that is written by me which can provide enough idea to master python lists [Python Lists](https://towardsdatascience.com/python-lists-from-scratch-4b958eb956fc)"
      ]
    },
    {
      "cell_type": "code",
      "metadata": {
        "id": "jL4s2MfxcUu2"
      },
      "source": [],
      "execution_count": null,
      "outputs": []
    },
    {
      "cell_type": "code",
      "metadata": {
        "id": "FxMKh4RScXDY"
      },
      "source": [],
      "execution_count": null,
      "outputs": []
    },
    {
      "cell_type": "code",
      "metadata": {
        "id": "w5EJQWtBcYx8"
      },
      "source": [],
      "execution_count": null,
      "outputs": []
    },
    {
      "cell_type": "code",
      "metadata": {
        "id": "P0yiY0cMcaEW"
      },
      "source": [],
      "execution_count": null,
      "outputs": []
    },
    {
      "cell_type": "markdown",
      "metadata": {
        "id": "7BdAXOI6cbq4"
      },
      "source": [
        "\n",
        "\n",
        "---\n",
        "\n"
      ]
    },
    {
      "cell_type": "markdown",
      "metadata": {
        "id": "Xwybsw-dccVE"
      },
      "source": [
        "## 5. Replacing a string"
      ]
    },
    {
      "cell_type": "markdown",
      "metadata": {
        "id": "JWA0gP58cfDN"
      },
      "source": [
        "The Replace function in python is one of the best function that can be applied to strings. For example, shown below is a string \"Money\" we need to replace the dollar and the comma sign and this can be done as shown below."
      ]
    },
    {
      "cell_type": "code",
      "metadata": {
        "id": "Yr9uB9hqcgLr",
        "outputId": "69793172-1aa6-4ee7-b728-d445d2a8977a",
        "colab": {
          "base_uri": "https://localhost:8080/"
        }
      },
      "source": [
        "Money = '$113,678'\n",
        "print(Money)\n",
        "print(\"===========================\")\n",
        "print(id(Money))"
      ],
      "execution_count": null,
      "outputs": [
        {
          "output_type": "stream",
          "name": "stdout",
          "text": [
            "$113,678\n",
            "===========================\n",
            "134836361841968\n"
          ]
        }
      ]
    },
    {
      "cell_type": "code",
      "metadata": {
        "id": "fsK018P2cjJ3",
        "outputId": "d283a366-bc5f-4b0e-e48c-9941c936f9a1",
        "colab": {
          "base_uri": "https://localhost:8080/"
        }
      },
      "source": [
        "Money = Money.replace('$', '')\n",
        "print(Money)\n",
        "print(\"===========================\")\n",
        "print(id(Money))"
      ],
      "execution_count": null,
      "outputs": [
        {
          "output_type": "stream",
          "name": "stdout",
          "text": [
            "113,678\n",
            "===========================\n",
            "134836363675440\n"
          ]
        }
      ]
    },
    {
      "cell_type": "code",
      "metadata": {
        "id": "ZQO19dD_cknA"
      },
      "source": [
        "Money = Money.replace(',', '')\n",
        "print(Money)\n",
        "print(\"===========================\")\n",
        "print(id(Money))"
      ],
      "execution_count": null,
      "outputs": []
    },
    {
      "cell_type": "code",
      "metadata": {
        "id": "wEBAA-tscmHf"
      },
      "source": [
        "Money = int(Money)\n",
        "print(Money)\n",
        "print(\"===========================\")\n",
        "print(id(Money))\n",
        "print(type(Money))"
      ],
      "execution_count": null,
      "outputs": []
    },
    {
      "cell_type": "markdown",
      "metadata": {
        "id": "FHiWQ19lc0tt"
      },
      "source": [
        "\n",
        "\n",
        "---\n",
        "\n"
      ]
    },
    {
      "cell_type": "markdown",
      "metadata": {
        "id": "ZMUiizBfc1TR"
      },
      "source": [
        "## 6. Join"
      ]
    },
    {
      "cell_type": "markdown",
      "metadata": {
        "id": "dU25fiyvc3eN"
      },
      "source": [
        "The join function is python is used to join the string according to the specified pattern."
      ]
    },
    {
      "cell_type": "code",
      "metadata": {
        "id": "k3cho5Jfc4xY",
        "outputId": "4ab7e540-d0e6-4ede-a738-eab2f368e48a",
        "colab": {
          "base_uri": "https://localhost:8080/"
        }
      },
      "source": [
        "String = \"Python Programming is fun\"\n",
        "print(String)\n",
        "print(id(String))"
      ],
      "execution_count": null,
      "outputs": [
        {
          "output_type": "stream",
          "name": "stdout",
          "text": [
            "Python Programming is fun\n",
            "134836362203008\n"
          ]
        }
      ]
    },
    {
      "cell_type": "code",
      "metadata": {
        "id": "on4SdAFAc6Sa",
        "outputId": "016f513c-fd22-4a64-8357-dd0e393291b1",
        "colab": {
          "base_uri": "https://localhost:8080/"
        }
      },
      "source": [
        "String = \" \".join(String)\n",
        "print(String)\n",
        "print(id(String))"
      ],
      "execution_count": null,
      "outputs": [
        {
          "output_type": "stream",
          "name": "stdout",
          "text": [
            "P y t h o n   P r o g r a m m i n g   i s   f u n\n",
            "134836362095040\n"
          ]
        }
      ]
    },
    {
      "cell_type": "markdown",
      "metadata": {
        "id": "bugIq-mNc7uN"
      },
      "source": [
        "\n",
        "\n",
        "---\n",
        "\n"
      ]
    },
    {
      "cell_type": "markdown",
      "metadata": {
        "id": "Yx7oyLtDc8XI"
      },
      "source": [
        "## 7. Capitalize"
      ]
    },
    {
      "cell_type": "markdown",
      "metadata": {
        "id": "KBWt0P9xc99B"
      },
      "source": [
        "The capitalize function capitalizes the first character in the word or a string."
      ]
    },
    {
      "cell_type": "code",
      "metadata": {
        "id": "OfsFhFp0c_Eo"
      },
      "source": [
        "string = \"programming\"\n",
        "print(string)\n",
        "print(id(string))"
      ],
      "execution_count": null,
      "outputs": []
    },
    {
      "cell_type": "code",
      "metadata": {
        "id": "ZUvy5wxZdA7w"
      },
      "source": [
        "string = string.capitalize()\n",
        "print(string)\n",
        "print(id(string))"
      ],
      "execution_count": null,
      "outputs": []
    },
    {
      "cell_type": "markdown",
      "metadata": {
        "id": "yX5Qdr6ydCFa"
      },
      "source": [
        "\n",
        "\n",
        "---\n",
        "\n"
      ]
    },
    {
      "cell_type": "markdown",
      "metadata": {
        "id": "sRgDZVrqdCuA"
      },
      "source": [
        "## 8. Center"
      ]
    },
    {
      "cell_type": "markdown",
      "metadata": {
        "id": "AsqHZ9r2dEwx"
      },
      "source": [
        "The center method returns a string which is padded with the specified character."
      ]
    },
    {
      "cell_type": "code",
      "metadata": {
        "id": "rRXoOdEAdGAW"
      },
      "source": [
        "string = \"python\"\n",
        "print(string.center(15, '*'))"
      ],
      "execution_count": null,
      "outputs": []
    },
    {
      "cell_type": "markdown",
      "metadata": {
        "id": "WirqOMPmdJrb"
      },
      "source": [
        "\n",
        "\n",
        "---\n",
        "\n"
      ]
    },
    {
      "cell_type": "markdown",
      "metadata": {
        "id": "mMxEPvbudKPZ"
      },
      "source": [
        "## 9. Find"
      ]
    },
    {
      "cell_type": "markdown",
      "metadata": {
        "id": "615CsWgodMU3"
      },
      "source": [
        "The find method returns the index of the given substring position. If the value is not found it returns, -1."
      ]
    },
    {
      "cell_type": "code",
      "metadata": {
        "id": "YoNlax-LdOGs",
        "outputId": "f0d9a0a8-2266-46c8-8625-cb4cff48d137",
        "colab": {
          "base_uri": "https://localhost:8080/",
          "height": 35
        }
      },
      "source": [
        "string = \"programming\"\n",
        "string"
      ],
      "execution_count": null,
      "outputs": [
        {
          "output_type": "execute_result",
          "data": {
            "text/plain": [
              "'programming'"
            ],
            "application/vnd.google.colaboratory.intrinsic+json": {
              "type": "string"
            }
          },
          "metadata": {},
          "execution_count": 23
        }
      ]
    },
    {
      "cell_type": "code",
      "metadata": {
        "id": "UF1zGdSfdPl4",
        "outputId": "c0fc20d7-bd06-4685-e56f-0f54be54c8b8",
        "colab": {
          "base_uri": "https://localhost:8080/"
        }
      },
      "source": [
        "print(string.find('p'))"
      ],
      "execution_count": null,
      "outputs": [
        {
          "output_type": "stream",
          "name": "stdout",
          "text": [
            "0\n"
          ]
        }
      ]
    },
    {
      "cell_type": "code",
      "metadata": {
        "id": "YndJcTeDdQ4J",
        "outputId": "96756693-f147-4f18-b7c5-6d28c6c0be12",
        "colab": {
          "base_uri": "https://localhost:8080/"
        }
      },
      "source": [
        "print(string.find('t'))"
      ],
      "execution_count": null,
      "outputs": [
        {
          "output_type": "stream",
          "name": "stdout",
          "text": [
            "-1\n"
          ]
        }
      ]
    },
    {
      "cell_type": "markdown",
      "metadata": {
        "id": "YkVlFDE1dSRh"
      },
      "source": [
        "\n",
        "\n",
        "---\n",
        "\n"
      ]
    },
    {
      "cell_type": "markdown",
      "metadata": {
        "id": "WKAuFqwqdSzi"
      },
      "source": [
        "## 10. Strip"
      ]
    },
    {
      "cell_type": "markdown",
      "metadata": {
        "id": "bNMVFWr8dUSl"
      },
      "source": [
        "The strip function strips or removes the white spaces both from the starting and the ending of a string."
      ]
    },
    {
      "cell_type": "code",
      "metadata": {
        "id": "iK6st3AXdV8R",
        "outputId": "2729dee5-0f0f-42f0-bdc2-d32f58b986f6",
        "colab": {
          "base_uri": "https://localhost:8080/",
          "height": 35
        }
      },
      "source": [
        "string = \"     programming is easy    \"\n",
        "string"
      ],
      "execution_count": null,
      "outputs": [
        {
          "output_type": "execute_result",
          "data": {
            "text/plain": [
              "'     programming is easy    '"
            ],
            "application/vnd.google.colaboratory.intrinsic+json": {
              "type": "string"
            }
          },
          "metadata": {},
          "execution_count": 26
        }
      ]
    },
    {
      "cell_type": "code",
      "metadata": {
        "id": "w6iyIxh2dYJr",
        "outputId": "899bf393-c9b1-4458-9a6e-442fd8af0d3f",
        "colab": {
          "base_uri": "https://localhost:8080/"
        }
      },
      "source": [
        "print(string.strip())"
      ],
      "execution_count": null,
      "outputs": [
        {
          "output_type": "stream",
          "name": "stdout",
          "text": [
            "programming is easy\n"
          ]
        }
      ]
    },
    {
      "cell_type": "markdown",
      "metadata": {
        "id": "WKaqOD1_dZrJ"
      },
      "source": [
        "\n",
        "\n",
        "---\n",
        "\n"
      ]
    },
    {
      "cell_type": "markdown",
      "metadata": {
        "id": "AYT7PeTCdbgL"
      },
      "source": [
        "Hence above are the very important techniques or functions of Strings in Python. Some of the examples were referred from [Python Strings](https://www.gangboard.com/blog/python-string/). I have written this tutorial in a simple way such that everybody can understand and master the concepts of Strings in Python without prior programming knowledge or experience."
      ]
    },
    {
      "cell_type": "markdown",
      "metadata": {
        "id": "7WdDGsbVdfhv"
      },
      "source": [
        "## Thank you"
      ]
    }
  ]
}