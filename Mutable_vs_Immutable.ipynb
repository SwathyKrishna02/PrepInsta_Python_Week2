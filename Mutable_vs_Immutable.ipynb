{
  "cells": [
    {
      "metadata": {
        "id": "5Pl6LZlt0SeW"
      },
      "cell_type": "markdown",
      "source": [
        "# Mutable vs. Immutable Objects"
      ]
    },
    {
      "cell_type": "markdown",
      "source": [
        "### Variables and Objects\n",
        "In Python, variables don’t have an associated type or size, as they’re labels attached to objects in memory. They point to the memory position where concrete objects live. In other words, a Python variable is a name that refers to or holds a reference to a concrete object. In contrast, Python objects are concrete pieces of information that live in specific memory positions on your computer.\n",
        "\n",
        "* The main takeaway here is that variables and objects are two different animals in Python:\n",
        "\n",
        "* Variables hold references to objects.\n",
        "Objects live in concrete memory positions."
      ],
      "metadata": {
        "id": "5pRpFKzpT8DB"
      }
    },
    {
      "metadata": {
        "id": "9r6PAXdC0SeZ"
      },
      "cell_type": "markdown",
      "source": [
        "## Everything is an object"
      ]
    },
    {
      "metadata": {
        "id": "MMcCX_ZK0Sea"
      },
      "cell_type": "markdown",
      "source": [
        "Every Python object has a type, identity, and *value*.\n",
        "\n",
        "The builtin function `type()` returns a `type` object.  \n",
        "The builtin function `id()` returns the object's identity (an integer).  \n",
        "Value is kind of vague, though."
      ]
    },
    {
      "metadata": {
        "scrolled": true,
        "trusted": true,
        "colab": {
          "base_uri": "https://localhost:8080/"
        },
        "id": "bsa6wfdp0Sea",
        "outputId": "c71525b3-08bc-4f40-89de-3626fb74fa51"
      },
      "cell_type": "code",
      "source": [
        "print(1, type(1), id(1))\n",
        "\n",
        "x = 1\n",
        "\n",
        "print(id(x))"
      ],
      "execution_count": null,
      "outputs": [
        {
          "output_type": "stream",
          "name": "stdout",
          "text": [
            "1 <class 'int'> 134215238107376\n",
            "134215238107376\n"
          ]
        }
      ]
    },
    {
      "metadata": {
        "id": "PjW1Oej10Sec"
      },
      "cell_type": "markdown",
      "source": [
        "## Mutability is about *values*\n",
        "\n"
      ]
    },
    {
      "metadata": {
        "id": "k0DYvIEv0Sec"
      },
      "cell_type": "markdown",
      "source": [
        "### Immutable objects\n",
        "You can't change their values.  \n",
        "The value of `x` is the same before and after `foo` is called.\n",
        "\n",
        "    x = some_immutable\n",
        "    print x\n",
        "\n",
        "This is *kind of* like pass-by-value.\n",
        "\n",
        "Immutable objects include **numbers**, **strings**, **tuples**."
      ]
    },
    {
      "metadata": {
        "trusted": true,
        "colab": {
          "base_uri": "https://localhost:8080/"
        },
        "id": "nXejXhj50Sec",
        "outputId": "301bee6c-4841-44a8-81b0-050df2e56ca7"
      },
      "cell_type": "code",
      "source": [
        "b = 5\n",
        "print (b, id(b))\n",
        "b = b+1\n",
        "print (b, id(b))"
      ],
      "execution_count": null,
      "outputs": [
        {
          "output_type": "stream",
          "name": "stdout",
          "text": [
            "5 134215238107504\n",
            "6 134215238107536\n"
          ]
        }
      ]
    },
    {
      "metadata": {
        "id": "x6_Sklyi0Sed"
      },
      "cell_type": "markdown",
      "source": [
        "### Mutable objects\n",
        "You can change their values.  \n",
        "\n",
        "This is *kind of* like pass-by-reference.\n",
        "\n",
        "Mutable objects include **lists**, **dictionaries**, etc."
      ]
    },
    {
      "metadata": {
        "trusted": true,
        "colab": {
          "base_uri": "https://localhost:8080/"
        },
        "id": "_P_OUtVi0Sed",
        "outputId": "86539fc5-61fd-4612-809b-2a2480c89e72"
      },
      "cell_type": "code",
      "source": [
        "a = [* range(10)]\n",
        "print (a, id(a))\n",
        "\n",
        "a.reverse()\n",
        "\n",
        "print(a, id(a))"
      ],
      "execution_count": null,
      "outputs": [
        {
          "output_type": "stream",
          "name": "stdout",
          "text": [
            "[0, 1, 2, 3, 4, 5, 6, 7, 8, 9] 134214808900800\n",
            "[9, 8, 7, 6, 5, 4, 3, 2, 1, 0] 134214808900800\n"
          ]
        }
      ]
    },
    {
      "metadata": {
        "id": "TbEYxtko0Sed"
      },
      "cell_type": "markdown",
      "source": [
        "## But, wait...\n",
        "It's pretty easy to change the value of a number variable..."
      ]
    },
    {
      "metadata": {
        "trusted": true,
        "colab": {
          "base_uri": "https://localhost:8080/"
        },
        "id": "gEVG01iX0See",
        "outputId": "8b073e90-4820-4906-a249-6efad283c39b"
      },
      "cell_type": "code",
      "source": [
        "a = 42\n",
        "print (a)\n",
        "print(id(a))\n",
        "\n",
        "a += 1\n",
        "print (a)\n",
        "print(id(a))\n",
        "\n",
        "a = 42\n",
        "print (a)\n",
        "print(id(a))"
      ],
      "execution_count": null,
      "outputs": [
        {
          "output_type": "stream",
          "name": "stdout",
          "text": [
            "42\n",
            "134215238108688\n",
            "43\n",
            "134215238108720\n",
            "42\n",
            "134215238108688\n"
          ]
        }
      ]
    },
    {
      "metadata": {
        "id": "i-P7Cp_I0See"
      },
      "cell_type": "markdown",
      "source": [
        "## Nah...\n",
        "The assignment operator doesn't change the value of an object, it changes its identity."
      ]
    },
    {
      "metadata": {
        "trusted": true,
        "id": "omJjtRRi0See"
      },
      "cell_type": "code",
      "source": [
        "foo = 42\n",
        "print (foo, id(foo))\n",
        "foo += 1\n",
        "print (foo, id(foo))\n",
        "foo = \"bar\"\n",
        "print (foo, id(foo))"
      ],
      "execution_count": null,
      "outputs": []
    }
  ],
  "metadata": {
    "kernelspec": {
      "name": "python2",
      "display_name": "Python 2",
      "language": "python"
    },
    "language_info": {
      "mimetype": "text/x-python",
      "nbconvert_exporter": "python",
      "name": "python",
      "pygments_lexer": "ipython2",
      "version": "2.7.10",
      "file_extension": ".py",
      "codemirror_mode": {
        "version": 2,
        "name": "ipython"
      }
    },
    "celltoolbar": "Slideshow",
    "colab": {
      "provenance": []
    }
  },
  "nbformat": 4,
  "nbformat_minor": 0
}