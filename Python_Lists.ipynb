{
  "nbformat": 4,
  "nbformat_minor": 0,
  "metadata": {
    "colab": {
      "provenance": []
    },
    "kernelspec": {
      "name": "python3",
      "display_name": "Python 3"
    }
  },
  "cells": [
    {
      "cell_type": "markdown",
      "metadata": {
        "id": "HQpjSZYzSZI4"
      },
      "source": [
        "# Python Lists from Scratch !!!"
      ]
    },
    {
      "cell_type": "markdown",
      "metadata": {
        "id": "VS9zKh3lo7si"
      },
      "source": [
        "## Let's understand the Python Lists from basic to advance level."
      ]
    },
    {
      "cell_type": "markdown",
      "metadata": {
        "id": "q-UYWzQjSAoK"
      },
      "source": [
        "The list is a data structure in Python which acts as a container to hold or store multiple data at the same time. Lists are mutable or changeable and ordered sequence of elements. To know more about Python Lists you can visit the official Python Lists documentation. One thing you have to keep in mind is that often we must declare lists using [ ] brackets. The elements inside the [ ] are the values of the list. For example:"
      ]
    },
    {
      "cell_type": "code",
      "metadata": {
        "id": "R98_K5UQSx9R",
        "outputId": "171e7384-5bb7-41fd-acef-ad7ab641a95e",
        "colab": {
          "base_uri": "https://localhost:8080/"
        }
      },
      "source": [
        "# Creating an empty list called \"num\"\n",
        "num = [ ]\n",
        "# Adding the values inside the list\n",
        "num = [ 1, 2, 3, 4, 5]\n",
        "# Printing the list\n",
        "num"
      ],
      "execution_count": null,
      "outputs": [
        {
          "output_type": "execute_result",
          "data": {
            "text/plain": [
              "[1, 2, 3, 4, 5]"
            ]
          },
          "metadata": {},
          "execution_count": 1
        }
      ]
    },
    {
      "cell_type": "markdown",
      "metadata": {
        "id": "D3L271SSS3vL"
      },
      "source": [
        "Here the name of the list is \"num\" and the list values are 1, 2, 3, 4, 5. The advantages of lists are the values inside the lists need not be of the same type meaning:"
      ]
    },
    {
      "cell_type": "code",
      "metadata": {
        "id": "EvnNwkDxTIJh"
      },
      "source": [
        "# Adding the values irrespective of their data type: Integer, String, float.\n",
        "num = [1, 2, 3, \"Mohan\", 4.0, 4/2]\n",
        "num"
      ],
      "execution_count": null,
      "outputs": []
    },
    {
      "cell_type": "markdown",
      "metadata": {
        "id": "M55H22taVBGs"
      },
      "source": [
        "In order to check the variable if it is a list or not, use the \"type\" method as follows:"
      ]
    },
    {
      "cell_type": "code",
      "metadata": {
        "id": "dTPnn1k2Vd4T"
      },
      "source": [
        "# Create a list as num\n",
        "num = [1, 2, 3, 4, 5]\n",
        "# Use type method by passing the name of the list as an arguement\n",
        "type(num)"
      ],
      "execution_count": null,
      "outputs": []
    },
    {
      "cell_type": "markdown",
      "metadata": {
        "id": "vAWAY_5jTMNp"
      },
      "source": [
        "### 1) Creating, accessing and calculating the length of a list."
      ]
    },
    {
      "cell_type": "markdown",
      "metadata": {
        "id": "65IJ_gGkps7G"
      },
      "source": [
        "Let us create a list called \"name\" and then insert some values, later we can then access the elements inside the list using the index with the help of [ ] by placing the index values inside it. We can then calculate the length of the list by using the len ( ) method, just pass the name of the list as an argument to the len( ) method, finally we can also get the length of the individual elements inside the list by using the same len ( ) method but this time we should specify the index position as an argument."
      ]
    },
    {
      "cell_type": "code",
      "metadata": {
        "id": "c1s1azbMp10C"
      },
      "source": [
        "# Creating a list called name\n",
        "name = [\"Mohan\", \"Krishna\", \"Python\"]\n",
        "name"
      ],
      "execution_count": null,
      "outputs": []
    },
    {
      "cell_type": "code",
      "metadata": {
        "id": "6m96qFvMp4ii",
        "outputId": "cc3c64b1-c4fb-45aa-ac68-3b6150086046",
        "colab": {
          "base_uri": "https://localhost:8080/",
          "height": 35
        }
      },
      "source": [
        "# Accessing the elements in the list\n",
        "name[0] # Mohan"
      ],
      "execution_count": null,
      "outputs": [
        {
          "output_type": "execute_result",
          "data": {
            "text/plain": [
              "'Mohan'"
            ],
            "application/vnd.google.colaboratory.intrinsic+json": {
              "type": "string"
            }
          },
          "metadata": {},
          "execution_count": 2
        }
      ]
    },
    {
      "cell_type": "code",
      "metadata": {
        "id": "21JdFTwEp8TP",
        "outputId": "5580607d-45e2-4e2b-eaa2-de145b561b55",
        "colab": {
          "base_uri": "https://localhost:8080/"
        }
      },
      "source": [
        "# Calculating the length of the list.\n",
        "len(name)"
      ],
      "execution_count": null,
      "outputs": [
        {
          "output_type": "execute_result",
          "data": {
            "text/plain": [
              "3"
            ]
          },
          "metadata": {},
          "execution_count": 3
        }
      ]
    },
    {
      "cell_type": "code",
      "metadata": {
        "id": "L8c60jFvp_OZ",
        "outputId": "ba198c05-1191-4707-efc5-c08eab23b575",
        "colab": {
          "base_uri": "https://localhost:8080/"
        }
      },
      "source": [
        "# Calculating the length of individual elements in a list\n",
        "len(name[0])   # length of \"Mohan\" is 4"
      ],
      "execution_count": null,
      "outputs": [
        {
          "output_type": "execute_result",
          "data": {
            "text/plain": [
              "5"
            ]
          },
          "metadata": {},
          "execution_count": 4
        }
      ]
    },
    {
      "cell_type": "markdown",
      "metadata": {
        "id": "CeaPhseIqCHD"
      },
      "source": [
        "\n",
        "\n",
        "---\n",
        "\n"
      ]
    },
    {
      "cell_type": "markdown",
      "metadata": {
        "id": "H8Oom4IsfhEz"
      },
      "source": [
        "### 2) Assignment operator on Lists"
      ]
    },
    {
      "cell_type": "markdown",
      "metadata": {
        "id": "upErO4CAqHtF"
      },
      "source": [
        "Assignment with a \"=\" on lists does not make a copy. Instead, the assignment makes the two variables point to the one list in the memory. Sometimes an assignment operator can be used to copy from one list to the other."
      ]
    },
    {
      "cell_type": "code",
      "metadata": {
        "id": "NfQYYrcAUjTP"
      },
      "source": [
        "# Creating a list called name\n",
        "name = [\"Mohan\", \"Krishna\", \"Python\"]"
      ],
      "execution_count": null,
      "outputs": []
    },
    {
      "cell_type": "code",
      "metadata": {
        "id": "PGLdY-RqqOJO"
      },
      "source": [
        "# Creating an empty list names\n",
        "names = []"
      ],
      "execution_count": null,
      "outputs": []
    },
    {
      "cell_type": "code",
      "metadata": {
        "id": "QXjv7vx2qRBE",
        "outputId": "52f1b379-0622-4e56-8df2-91362ffc64f5",
        "colab": {
          "base_uri": "https://localhost:8080/"
        }
      },
      "source": [
        "# Using assignment operator on Lists doesn't create a copy.\n",
        "names = name\n",
        "# Assigning the old list name to the new list names.\n",
        "print(id(name))\n",
        "print(id(names))"
      ],
      "execution_count": null,
      "outputs": [
        {
          "output_type": "stream",
          "name": "stdout",
          "text": [
            "138125797690176\n",
            "138125797690176\n"
          ]
        }
      ]
    },
    {
      "cell_type": "markdown",
      "metadata": {
        "id": "lMHzgaNcqUAG"
      },
      "source": [
        "\n",
        "\n",
        "---\n",
        "\n"
      ]
    },
    {
      "cell_type": "markdown",
      "metadata": {
        "id": "LjZeunKZAsNR"
      },
      "source": [
        "### 3) Appending two lists to a single list."
      ]
    },
    {
      "cell_type": "markdown",
      "metadata": {
        "id": "QJzMRZ7lqamh"
      },
      "source": [
        "Usually appending two lists can be done by using append( ) method, but appending can also be done by using a '+' (here + doesn't mean addition) whereas + can be used to add or merge two lists into a single list as shown below."
      ]
    },
    {
      "cell_type": "code",
      "metadata": {
        "id": "ryhZnCeNq3Bl",
        "outputId": "eb98cd65-0e9c-4f92-ab4e-0cec69bf4c6b",
        "colab": {
          "base_uri": "https://localhost:8080/"
        }
      },
      "source": [
        "# Creating a new list called Cars\n",
        "cars = [\"Mercedes\", \"BMW\", \"Audi\"]\n",
        "cars"
      ],
      "execution_count": null,
      "outputs": [
        {
          "output_type": "execute_result",
          "data": {
            "text/plain": [
              "['Mercedes', 'BMW', 'Audi']"
            ]
          },
          "metadata": {},
          "execution_count": 8
        }
      ]
    },
    {
      "cell_type": "code",
      "metadata": {
        "id": "1Cwsr4N2q6X2",
        "outputId": "3e9e73aa-2b05-49c0-841e-342a225262fd",
        "colab": {
          "base_uri": "https://localhost:8080/"
        }
      },
      "source": [
        "# Creating a new list called bikes\n",
        "bikes = [\"Honda\", \"Yamaha\", \"Aprilla\"]\n",
        "bikes"
      ],
      "execution_count": null,
      "outputs": [
        {
          "output_type": "execute_result",
          "data": {
            "text/plain": [
              "['Honda', 'Yamaha', 'Aprilla']"
            ]
          },
          "metadata": {},
          "execution_count": 9
        }
      ]
    },
    {
      "cell_type": "code",
      "metadata": {
        "id": "JQCkUSgRq9d1",
        "outputId": "d5b355c2-20e8-4a81-978b-7c6785efbe65",
        "colab": {
          "base_uri": "https://localhost:8080/"
        }
      },
      "source": [
        "# Appending both the lists\n",
        "cars_bikes = cars + bikes\n",
        "cars_bikes"
      ],
      "execution_count": null,
      "outputs": [
        {
          "output_type": "execute_result",
          "data": {
            "text/plain": [
              "['Mercedes', 'BMW', 'Audi', 'Honda', 'Yamaha', 'Aprilla']"
            ]
          },
          "metadata": {},
          "execution_count": 10
        }
      ]
    },
    {
      "cell_type": "markdown",
      "metadata": {
        "id": "QfvPXI4qrA-O"
      },
      "source": [
        "\n",
        "\n",
        "---\n",
        "\n"
      ]
    },
    {
      "cell_type": "markdown",
      "metadata": {
        "id": "sK4z2XxqrBrT"
      },
      "source": [
        "### 4) Using FOR and IN in lists"
      ]
    },
    {
      "cell_type": "markdown",
      "metadata": {
        "id": "iIziYcNkrEhZ"
      },
      "source": [
        "In Python the \"for\" and \"in\" are called constructs, these constructs are easy to use, they are used whenever you need to iterate over a list."
      ]
    },
    {
      "cell_type": "code",
      "metadata": {
        "id": "VagFTTI8rF92",
        "outputId": "a55ecf17-473f-483d-fc57-2353eb09e7e1",
        "colab": {
          "base_uri": "https://localhost:8080/"
        }
      },
      "source": [
        "# Creating a list\n",
        "num = [1,2,3,4,5,6,7,8,9,10]\n",
        "# Assigning sum to 0\n",
        "sum = 0\n",
        "# Using a for loop to iterate over the list\n",
        "for i in num:\n",
        "  sum = sum + i\n",
        "print(sum) # 15"
      ],
      "execution_count": null,
      "outputs": [
        {
          "output_type": "stream",
          "name": "stdout",
          "text": [
            "55\n"
          ]
        }
      ]
    },
    {
      "cell_type": "markdown",
      "metadata": {
        "id": "sAGKvOUJrIxS"
      },
      "source": [
        "\n",
        "\n",
        "---\n",
        "\n"
      ]
    },
    {
      "cell_type": "markdown",
      "metadata": {
        "id": "HGe3maLyrJb-"
      },
      "source": [
        "### 5) Using IF and IN in lists."
      ]
    },
    {
      "cell_type": "markdown",
      "metadata": {
        "id": "1wYSVbejrLYE"
      },
      "source": [
        "The \"if \" and \"in\" construct on its own is an easy way to test if an element appears in a list (or other collection), it tests if the value is in the collection, returning True/False. This also works for the string, characters in Python."
      ]
    },
    {
      "cell_type": "code",
      "metadata": {
        "id": "ISmvPEvGrNCi"
      },
      "source": [
        "# Creating a list\n",
        "num = [1, 2, 3, 4, 5]\n",
        "if 1 in num:\n",
        "  print(\"True\")\n",
        "else:\n",
        "  print(\"False\")"
      ],
      "execution_count": null,
      "outputs": []
    },
    {
      "cell_type": "markdown",
      "metadata": {
        "id": "pam8Jo6orOsR"
      },
      "source": [
        "\n",
        "\n",
        "---\n",
        "\n"
      ]
    },
    {
      "cell_type": "markdown",
      "metadata": {
        "id": "ASBVmHKdrPQT"
      },
      "source": [
        "### 6) Range function in Python."
      ]
    },
    {
      "cell_type": "markdown",
      "metadata": {
        "id": "kxLXRIPyrSrB"
      },
      "source": [
        "The Range function in Python is used as a boundary in the looping constructs, the range function starts from 0 to n-1, it doesn't include the last number as shown below."
      ]
    },
    {
      "cell_type": "code",
      "metadata": {
        "id": "eTslCEJnrTR2"
      },
      "source": [
        "# Range starts 0 to n-1\n",
        "for i in range(5):\n",
        " print(i)"
      ],
      "execution_count": null,
      "outputs": []
    },
    {
      "cell_type": "markdown",
      "metadata": {
        "id": "ey7oKcNjrVlx"
      },
      "source": [
        "\n",
        "\n",
        "---\n",
        "\n"
      ]
    },
    {
      "cell_type": "markdown",
      "metadata": {
        "id": "tmECTrCqrYcn"
      },
      "source": [
        "### 7) While loop in python"
      ]
    },
    {
      "cell_type": "markdown",
      "metadata": {
        "id": "rLI-Gxovrasz"
      },
      "source": [
        "Python has a standard while-loop which works similar to the For loop, first you have to initialize, then insert a condition and finally increment"
      ]
    },
    {
      "cell_type": "code",
      "metadata": {
        "id": "CmUGkdqtrWRC"
      },
      "source": [
        "# Initialisin i to 0\n",
        "i = 0\n",
        "while i < 10:\n",
        " print(i) # 0–9\n",
        " i = i+ 1"
      ],
      "execution_count": null,
      "outputs": []
    },
    {
      "cell_type": "markdown",
      "metadata": {
        "id": "4FCLLvUZrchJ"
      },
      "source": [
        "\n",
        "\n",
        "---\n",
        "\n"
      ]
    },
    {
      "cell_type": "markdown",
      "metadata": {
        "id": "awbJtgTcrePT"
      },
      "source": [
        "### 8) List methods."
      ]
    },
    {
      "cell_type": "markdown",
      "metadata": {
        "id": "EILdnNLFrh8H"
      },
      "source": [
        "Below are some of the most common list methods shown with an example."
      ]
    },
    {
      "cell_type": "markdown",
      "metadata": {
        "id": "GaUe6W8Grj_-"
      },
      "source": [
        "**a) List append method**"
      ]
    },
    {
      "cell_type": "markdown",
      "metadata": {
        "id": "jwmNBqgZrlly"
      },
      "source": [
        "The list.append( ) just appends an element to the list but never returns anything, it just appends the element to the existing list."
      ]
    },
    {
      "cell_type": "code",
      "metadata": {
        "id": "Nw50C6swroMu"
      },
      "source": [
        "# Creating a new list called name\n",
        "name = ['Mohan', 'Krishna']\n",
        "# Before appending\n",
        "name"
      ],
      "execution_count": null,
      "outputs": []
    },
    {
      "cell_type": "code",
      "metadata": {
        "id": "iwX3dcwOrsfC"
      },
      "source": [
        "# Using the append operation on the current (\"Python\") is the value to be appended.\n",
        "name.append(\"Python\")\n",
        "# After appending\n",
        "name"
      ],
      "execution_count": null,
      "outputs": []
    },
    {
      "cell_type": "markdown",
      "metadata": {
        "id": "bQfquS1srumK"
      },
      "source": [
        "\n",
        "\n",
        "---\n",
        "\n"
      ]
    },
    {
      "cell_type": "markdown",
      "metadata": {
        "id": "iVTgbpCkrwpG"
      },
      "source": [
        "**b) List insert method**"
      ]
    },
    {
      "cell_type": "markdown",
      "metadata": {
        "id": "Rl6hyiG3ry71"
      },
      "source": [
        "List.insert( ) operation is used to insert the elements inside a list with a specified index position."
      ]
    },
    {
      "cell_type": "code",
      "metadata": {
        "id": "3lGudkynrwe0"
      },
      "source": [
        "# Creating a new list called list\n",
        "name = ['Mohan', 'Krishna']\n",
        "# Before inserting\n",
        "name"
      ],
      "execution_count": null,
      "outputs": []
    },
    {
      "cell_type": "code",
      "metadata": {
        "id": "ee2uY9Ncr1q5"
      },
      "source": [
        "# Insert Operation on the existing list, here the index position is 2.\n",
        "name.insert(2, \"Python\")\n",
        "# After Inserting\n",
        "name"
      ],
      "execution_count": null,
      "outputs": []
    },
    {
      "cell_type": "markdown",
      "metadata": {
        "id": "pAfETynSr4uG"
      },
      "source": [
        "\n",
        "\n",
        "---\n",
        "\n"
      ]
    },
    {
      "cell_type": "markdown",
      "metadata": {
        "id": "VVkPpvTor9NI"
      },
      "source": [
        "**c) List extend method**"
      ]
    },
    {
      "cell_type": "markdown",
      "metadata": {
        "id": "XhbWaUlur-U0"
      },
      "source": [
        "The extend method adds the elements to the end of the new list. It is similar to append but you have to pass the list as an argument whereas in append it's not necessarily true."
      ]
    },
    {
      "cell_type": "code",
      "metadata": {
        "id": "KOp3wcT0r_bA"
      },
      "source": [
        "# Creating a new list called name\n",
        "name = ['Mohan', 'Krishna']\n",
        "# Before extending\n",
        "name"
      ],
      "execution_count": null,
      "outputs": []
    },
    {
      "cell_type": "code",
      "metadata": {
        "id": "v8bWVXgKsCJ4"
      },
      "source": [
        "# Using extend but make sure that you put the elements in a []\n",
        "# Without []\n",
        "name.extend(\"Python\")\n",
        "# After extending\n",
        "name"
      ],
      "execution_count": null,
      "outputs": []
    },
    {
      "cell_type": "code",
      "metadata": {
        "id": "oN64LF0MsD83"
      },
      "source": [
        "# After []\n",
        "name.extend([\"Python\"])\n",
        "name"
      ],
      "execution_count": null,
      "outputs": []
    },
    {
      "cell_type": "markdown",
      "metadata": {
        "id": "xqCuTkLusFt5"
      },
      "source": [
        "\n",
        "\n",
        "---\n",
        "\n"
      ]
    },
    {
      "cell_type": "markdown",
      "metadata": {
        "id": "5jF1kglBsGev"
      },
      "source": [
        "**d) List index method**"
      ]
    },
    {
      "cell_type": "markdown",
      "metadata": {
        "id": "PccBohs7sGib"
      },
      "source": [
        "The index operation in list searches the element in the list and then returns the index of that element. If the element is not present in the list then the index method returns a value error telling that the element is not in the list."
      ]
    },
    {
      "cell_type": "code",
      "metadata": {
        "id": "4cXXfsd9sKTM"
      },
      "source": [
        "# Creating a new list called name\n",
        "name = ['Mohan', 'Krishna']\n",
        "# Before indexing\n",
        "name"
      ],
      "execution_count": null,
      "outputs": []
    },
    {
      "cell_type": "code",
      "metadata": {
        "id": "obyo2Tb_sNGE"
      },
      "source": [
        "# After indexing, type the element that you want to index.\n",
        "name.index(\"Krishna\")"
      ],
      "execution_count": null,
      "outputs": []
    },
    {
      "cell_type": "code",
      "metadata": {
        "id": "bV2dRJcpsO0M"
      },
      "source": [
        "# If the element is not present then you get an error\n",
        "name.index(\"Mercedes\")"
      ],
      "execution_count": null,
      "outputs": []
    },
    {
      "cell_type": "markdown",
      "metadata": {
        "id": "C4hjJD5HsP-s"
      },
      "source": [
        "\n",
        "\n",
        "---\n",
        "\n"
      ]
    },
    {
      "cell_type": "markdown",
      "metadata": {
        "id": "Axe6nM7nsSW6"
      },
      "source": [
        "**e) List remove method**"
      ]
    },
    {
      "cell_type": "markdown",
      "metadata": {
        "id": "8TmYnmFUsTNz"
      },
      "source": [
        "The Remove method in lists searches for the element and then on matching removes the element present in the list. Also throws an error when the element is not in the list."
      ]
    },
    {
      "cell_type": "code",
      "metadata": {
        "id": "8mALjCzasUcw"
      },
      "source": [
        "# Creating a new list called name\n",
        "name = ['Mohan', 'Krishna']\n",
        "# Before removing\n",
        "name"
      ],
      "execution_count": null,
      "outputs": []
    },
    {
      "cell_type": "code",
      "metadata": {
        "id": "QT9cFWTjsXUC"
      },
      "source": [
        "# After removing\n",
        "name.remove(\"Krishna\")\n",
        "name"
      ],
      "execution_count": null,
      "outputs": []
    },
    {
      "cell_type": "code",
      "metadata": {
        "id": "SfUWaW4RsgXB",
        "outputId": "d23772a6-e271-4a59-f840-9361f30836cc",
        "colab": {
          "base_uri": "https://localhost:8080/",
          "height": 166
        }
      },
      "source": [
        "name.remove('Python')"
      ],
      "execution_count": null,
      "outputs": [
        {
          "output_type": "error",
          "ename": "ValueError",
          "evalue": "ignored",
          "traceback": [
            "\u001b[0;31m---------------------------------------------------------------------------\u001b[0m",
            "\u001b[0;31mValueError\u001b[0m                                Traceback (most recent call last)",
            "\u001b[0;32m<ipython-input-31-0cd347413bd4>\u001b[0m in \u001b[0;36m<module>\u001b[0;34m()\u001b[0m\n\u001b[0;32m----> 1\u001b[0;31m \u001b[0mname\u001b[0m\u001b[0;34m.\u001b[0m\u001b[0mremove\u001b[0m\u001b[0;34m(\u001b[0m\u001b[0;34m'Prabhu'\u001b[0m\u001b[0;34m)\u001b[0m\u001b[0;34m\u001b[0m\u001b[0;34m\u001b[0m\u001b[0m\n\u001b[0m",
            "\u001b[0;31mValueError\u001b[0m: list.remove(x): x not in list"
          ]
        }
      ]
    },
    {
      "cell_type": "markdown",
      "metadata": {
        "id": "_7fvqW5_siBu"
      },
      "source": [
        "\n",
        "\n",
        "---\n",
        "\n"
      ]
    },
    {
      "cell_type": "markdown",
      "metadata": {
        "id": "sc5fdFfgslEm"
      },
      "source": [
        "**f) List sort method**"
      ]
    },
    {
      "cell_type": "markdown",
      "metadata": {
        "id": "Op96zt_zstcE"
      },
      "source": [
        "As the name suggests the sort method sort the elements in ascending order. This method doesn't return anything."
      ]
    },
    {
      "cell_type": "code",
      "metadata": {
        "id": "spkCBNK3su8F"
      },
      "source": [
        "# Creating a list called num\n",
        "num = [1, 4, 5, 2, 3]\n",
        "# Before sorting\n",
        "num"
      ],
      "execution_count": null,
      "outputs": []
    },
    {
      "cell_type": "code",
      "metadata": {
        "id": "0BucUSzVsxVf"
      },
      "source": [
        "# After sorting\n",
        "num.sort()\n",
        "num"
      ],
      "execution_count": null,
      "outputs": []
    },
    {
      "cell_type": "markdown",
      "metadata": {
        "id": "vD6evrQmsyxG"
      },
      "source": [
        "\n",
        "\n",
        "---\n",
        "\n"
      ]
    },
    {
      "cell_type": "markdown",
      "metadata": {
        "id": "eukKn9FeszQg"
      },
      "source": [
        "**g) List Reverse method**"
      ]
    },
    {
      "cell_type": "markdown",
      "metadata": {
        "id": "WzEDCVhSs0E-"
      },
      "source": [
        "As the name suggests the reverse method reverses the entire list. This method doesn't return anything."
      ]
    },
    {
      "cell_type": "code",
      "metadata": {
        "id": "71BJzsYxs1g-"
      },
      "source": [
        "# Creating a list called num\n",
        "num = [1, 2, 3, 4, 5]\n",
        "# Before Reversing\n",
        "num"
      ],
      "execution_count": null,
      "outputs": []
    },
    {
      "cell_type": "code",
      "metadata": {
        "id": "t8nJU-kUs4HF"
      },
      "source": [
        "num.reverse()\n",
        "# After the reverse\n",
        "num"
      ],
      "execution_count": null,
      "outputs": []
    },
    {
      "cell_type": "markdown",
      "metadata": {
        "id": "7QyNm5ivs54W"
      },
      "source": [
        "\n",
        "\n",
        "---\n",
        "\n"
      ]
    },
    {
      "cell_type": "markdown",
      "metadata": {
        "id": "THOAJzVHs6vX"
      },
      "source": [
        "**h) List pop method**"
      ]
    },
    {
      "cell_type": "markdown",
      "metadata": {
        "id": "EiTH117ls8WQ"
      },
      "source": [
        "The Pop method removes and returns the element at the given index. Returns the rightmost element if the index is omitted (roughly the opposite of append( ))."
      ]
    },
    {
      "cell_type": "code",
      "metadata": {
        "id": "Vf3_3htss9fq"
      },
      "source": [
        "# Creating a list called num\n",
        "num = [1, 2, 3, 4, 5]\n",
        "# Before popping\n",
        "num"
      ],
      "execution_count": null,
      "outputs": []
    },
    {
      "cell_type": "code",
      "metadata": {
        "id": "bMCUHjeDtAAO"
      },
      "source": [
        "# After popping\n",
        "num.pop(1)"
      ],
      "execution_count": null,
      "outputs": []
    },
    {
      "cell_type": "code",
      "metadata": {
        "id": "wSuKIqIJtBgz"
      },
      "source": [
        "num"
      ],
      "execution_count": null,
      "outputs": []
    },
    {
      "cell_type": "markdown",
      "metadata": {
        "id": "KTdw3P1itC40"
      },
      "source": [
        "\n",
        "\n",
        "---\n",
        "\n"
      ]
    },
    {
      "cell_type": "markdown",
      "metadata": {
        "id": "EFdwcMl7tDov"
      },
      "source": [
        "### 9) List Slices"
      ]
    },
    {
      "cell_type": "markdown",
      "metadata": {
        "id": "UN9w53d4tFIK"
      },
      "source": [
        "Slicing the list means cutting down the list elements, it and can also be used to change sub-parts of the list."
      ]
    },
    {
      "cell_type": "code",
      "metadata": {
        "id": "T7oLm3rNtGRe"
      },
      "source": [
        "char = ['a', 'b', 'c', 'd']\n",
        "char\n",
        "['a', 'b', 'c', 'd']\n",
        "char[1:-1]         ## ['b', 'c']\n",
        "char"
      ],
      "execution_count": null,
      "outputs": []
    },
    {
      "cell_type": "code",
      "metadata": {
        "id": "R1SAANJsvzyQ"
      },
      "source": [
        "char[0:2] = 'z'    ## replace ['a', 'b'] with ['z']\n",
        "char               ## ['z', 'c', 'd']"
      ],
      "execution_count": null,
      "outputs": []
    },
    {
      "cell_type": "markdown",
      "metadata": {
        "id": "XutVXpNRtKhr"
      },
      "source": [
        "\n",
        "\n",
        "---\n",
        "\n"
      ]
    },
    {
      "cell_type": "markdown",
      "metadata": {
        "id": "D4A_Ydl1tMBW"
      },
      "source": [
        "### 10) Converting a string to a list"
      ]
    },
    {
      "cell_type": "markdown",
      "metadata": {
        "id": "4uMwYVRktNDy"
      },
      "source": [
        "This is the most important technique, often we need to convert the string to a list in our projects, this is an easy approach that does the job for us. This below example was referred from [geeksforgeeks.com](https://www.geeksforgeeks.org/python-program-convert-string-list/). Here we are using the split method from the strings where the split method just splits the elements from the string and then broadcasts into a list as shown below."
      ]
    },
    {
      "cell_type": "code",
      "metadata": {
        "id": "rGlOVSV3taFK"
      },
      "source": [
        "# Creating a String\n",
        "String = \"Mohan\"\n",
        "String"
      ],
      "execution_count": null,
      "outputs": []
    },
    {
      "cell_type": "code",
      "metadata": {
        "id": "vzTQPbGNtbwN"
      },
      "source": [
        "# Checking for the type\n",
        "type(String)"
      ],
      "execution_count": null,
      "outputs": []
    },
    {
      "cell_type": "code",
      "metadata": {
        "id": "BjB0Wel4tdUo"
      },
      "source": [
        "# Using the split method to split the string into a list.\n",
        "name = list(String.split(\" \"))\n",
        "name"
      ],
      "execution_count": null,
      "outputs": []
    },
    {
      "cell_type": "code",
      "metadata": {
        "id": "iL81efS3wwdh"
      },
      "source": [
        "type(name)"
      ],
      "execution_count": null,
      "outputs": []
    },
    {
      "cell_type": "markdown",
      "metadata": {
        "id": "t223rcQi4AKR"
      },
      "source": [
        "\n",
        "\n",
        "---\n",
        "\n"
      ]
    },
    {
      "cell_type": "markdown",
      "metadata": {
        "id": "KCYEjqg54KAN"
      },
      "source": [
        "Hence above are the very important techniques or methods of Lists in Python. Most of the examples were referred from [Python Lists](https://developers.google.com/edu/python/lists) from Google. I have written this in a simple way such that everybody can understand and master the concepts of lists in Python. If you guys have some doubts in the code, the comment section is all yours."
      ]
    },
    {
      "cell_type": "markdown",
      "metadata": {
        "id": "HAjHMPzy4M8P"
      },
      "source": [
        "## ThankYou."
      ]
    }
  ]
}